{
 "cells": [
  {
   "cell_type": "markdown",
   "metadata": {},
   "source": [
    "# core\n",
    "\n",
    "> Fill in a module description here"
   ]
  },
  {
   "cell_type": "code",
   "execution_count": null,
   "metadata": {},
   "outputs": [],
   "source": [
    "#| default_exp core"
   ]
  },
  {
   "cell_type": "code",
   "execution_count": null,
   "metadata": {},
   "outputs": [],
   "source": [
    "#| export\n",
    "def brainwave(vault_dir, transformation, dimensions = 128, window = 10, walk_length = 80, num_walks = 10, workers = 1):\n",
    "    import obsidiantools.api as otools\n",
    "    from wirewalk.core import WireWalk\n",
    "\n",
    "    vault = otools.Vault(vault_dir).connect().gather()\n",
    "\n",
    "    graph = vault.graph\n",
    "\n",
    "    # Instantiate a WireWalk object\n",
    "    wireWalk = WireWalk(graph, dimensions, window, walk_length, num_walks, workers)\n",
    "\n",
    "    model = wireWalk.fit(transformation)\n",
    "\n",
    "    return model\n"
   ]
  }
 ],
 "metadata": {
  "kernelspec": {
   "display_name": "Python 3.11.3 ('brainwalkenv')",
   "language": "python",
   "name": "python3"
  }
 },
 "nbformat": 4,
 "nbformat_minor": 4
}

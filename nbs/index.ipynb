{
 "cells": [
  {
   "cell_type": "code",
   "execution_count": null,
   "metadata": {},
   "outputs": [],
   "source": [
    "#| hide\n",
    "import sys\n",
    "sys.path.append(\"..\")\n",
    "from brainwalk.core import *"
   ]
  },
  {
   "cell_type": "markdown",
   "metadata": {},
   "source": [
    "# brainwalk\n",
    "\n",
    "> Spatial graph embeddings for ObsidianMD"
   ]
  },
  {
   "cell_type": "markdown",
   "metadata": {},
   "source": [
    "## Install"
   ]
  },
  {
   "cell_type": "markdown",
   "metadata": {},
   "source": [
    "```sh\n",
    "pip install brainwalk\n",
    "```"
   ]
  },
  {
   "cell_type": "markdown",
   "metadata": {},
   "source": [
    "## How to use"
   ]
  },
  {
   "cell_type": "code",
   "execution_count": null,
   "metadata": {},
   "outputs": [],
   "source": [
    "\n",
    "# Find the Obsidian Vault directory and assert that it exists\n",
    "import os\n",
    "from pathlib import Path\n",
    "vault_dir = Path(os.getcwd()) / 'vault-stub'\n",
    "assert vault_dir.exists()\n",
    "\n",
    "# Retrieve a Gensim word2vec model of your Obsidian Graph\n",
    "from brainwalk.core import brainwave\n",
    "from wirewalk.core import jaccard_coefficient\n",
    "\n",
    "model = brainwave(vault_dir,jaccard_coefficient)"
   ]
  },
  {
   "cell_type": "code",
   "execution_count": null,
   "metadata": {},
   "outputs": [
    {
     "data": {
      "text/plain": [
       "{'Vulnera ubera': 0,\n",
       " 'Causam mihi': 1,\n",
       " 'Sussudio': 2,\n",
       " 'Ne fuit': 3,\n",
       " 'Brevissimus moenia': 4,\n",
       " 'Alimenta': 5,\n",
       " 'American Psycho (film)': 6,\n",
       " 'Aras Teucras': 7,\n",
       " 'Tydides': 8,\n",
       " 'Dives': 9,\n",
       " 'Caelum': 10,\n",
       " 'Vita': 11,\n",
       " 'Isolated note': 12,\n",
       " 'Tarpeia': 13,\n",
       " 'Manus': 14,\n",
       " 'Amor': 15,\n",
       " 'lipsum/Isolated note': 16,\n",
       " 'Bacchus': 17,\n",
       " 'Virtus': 18,\n",
       " 'Aetna': 19}"
      ]
     },
     "execution_count": null,
     "metadata": {},
     "output_type": "execute_result"
    }
   ],
   "source": [
    "model.wv.key_to_index"
   ]
  },
  {
   "cell_type": "code",
   "execution_count": null,
   "metadata": {},
   "outputs": [
    {
     "data": {
      "text/plain": [
       "[('Ne fuit', 0.9992153644561768),\n",
       " ('Bacchus', 0.9991818070411682),\n",
       " ('Manus', 0.9991797804832458),\n",
       " ('Tydides', 0.9991616606712341),\n",
       " ('Sussudio', 0.9991515278816223),\n",
       " ('Vita', 0.9991357922554016),\n",
       " ('American Psycho (film)', 0.9991220831871033),\n",
       " ('lipsum/Isolated note', 0.9991198182106018),\n",
       " ('Virtus', 0.9991057515144348),\n",
       " ('Causam mihi', 0.999089777469635)]"
      ]
     },
     "execution_count": null,
     "metadata": {},
     "output_type": "execute_result"
    }
   ],
   "source": [
    "model.wv.most_similar(\"Vulnera ubera\")"
   ]
  }
 ],
 "metadata": {
  "kernelspec": {
   "display_name": "Python 3.11.3 ('brainwalkenv')",
   "language": "python",
   "name": "python3"
  }
 },
 "nbformat": 4,
 "nbformat_minor": 4
}
